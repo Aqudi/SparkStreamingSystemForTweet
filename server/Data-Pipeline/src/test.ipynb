{
 "cells": [
  {
   "cell_type": "code",
   "execution_count": 6,
   "metadata": {},
   "outputs": [],
   "source": [
    "import json\n",
    "from datetime import datetime"
   ]
  },
  {
   "cell_type": "code",
   "execution_count": 7,
   "metadata": {},
   "outputs": [],
   "source": [
    "RDD = \"{\\\"created_at\\\":\\\"Sun Feb 09 15:16:28 +0000 2020\\\",\\\"id\\\":1226525278819713028,\\\"id_str\\\":\\\"1226525278819713028\\\",\\\"text\\\":\\\"RT @codek_tv: Everything you need to know about TensorFlow 2.0\\\\n#tensorflow #python #programming\\\\n https:\\\\/\\\\/t.co\\\\/Ixw3NJiuRq\\\",\\\"source\\\":\\\"\\\\u003ca href=\\\\\\\"https:\\\\/\\\\/mobile.twitter.com\\\\\\\" rel=\\\\\\\"nofollow\\\\\\\"\\\\u003eTwitter Web App\\\\u003c\\\\/a\\\\u003e\\\",\\\"truncated\\\":false,\\\"in_reply_to_status_id\\\":null,\\\"in_reply_to_status_id_str\\\":null,\\\"in_reply_to_user_id\\\":null,\\\"in_reply_to_user_id_str\\\":null,\\\"in_reply_to_screen_name\\\":null,\\\"user\\\":{\\\"id\\\":855384627975831553,\\\"id_str\\\":\\\"855384627975831553\\\",\\\"name\\\":\\\"Python Programming\\\",\\\"screen_name\\\":\\\"PythonPr\\\",\\\"location\\\":\\\"United States\\\",\\\"url\\\":\\\"https:\\\\/\\\\/morioh.com\\\",\\\"description\\\":\\\"#python #programming\\\",\\\"translator_type\\\":\\\"none\\\",\\\"protected\\\":false,\\\"verified\\\":false,\\\"followers_count\\\":2507,\\\"friends_count\\\":1593,\\\"listed_count\\\":25,\\\"favourites_count\\\":529,\\\"statuses_count\\\":1688,\\\"created_at\\\":\\\"Fri Apr 21 11:36:02 +0000 2017\\\",\\\"utc_offset\\\":null,\\\"time_zone\\\":null,\\\"geo_enabled\\\":false,\\\"lang\\\":null,\\\"contributors_enabled\\\":false,\\\"is_translator\\\":false,\\\"profile_background_color\\\":\\\"F5F8FA\\\",\\\"profile_background_image_url\\\":\\\"\\\",\\\"profile_background_image_url_https\\\":\\\"\\\",\\\"profile_background_tile\\\":false,\\\"profile_link_color\\\":\\\"1DA1F2\\\",\\\"profile_sidebar_border_color\\\":\\\"C0DEED\\\",\\\"profile_sidebar_fill_color\\\":\\\"DDEEF6\\\",\\\"profile_text_color\\\":\\\"333333\\\",\\\"profile_use_background_image\\\":true,\\\"profile_image_url\\\":\\\"http:\\\\/\\\\/pbs.twimg.com\\\\/profile_images\\\\/855386134439895041\\\\/BKOMdcnN_normal.jpg\\\",\\\"profile_image_url_https\\\":\\\"https:\\\\/\\\\/pbs.twimg.com\\\\/profile_images\\\\/855386134439895041\\\\/BKOMdcnN_normal.jpg\\\",\\\"profile_banner_url\\\":\\\"https:\\\\/\\\\/pbs.twimg.com\\\\/profile_banners\\\\/855384627975831553\\\\/1492774829\\\",\\\"default_profile\\\":true,\\\"default_profile_image\\\":false,\\\"following\\\":null,\\\"follow_request_sent\\\":null,\\\"notifications\\\":null},\\\"geo\\\":null,\\\"coordinates\\\":null,\\\"place\\\":null,\\\"contributors\\\":null,\\\"retweeted_status\\\":{\\\"created_at\\\":\\\"Sun Feb 09 15:14:20 +0000 2020\\\",\\\"id\\\":1226524742070480899,\\\"id_str\\\":\\\"1226524742070480899\\\",\\\"text\\\":\\\"Everything you need to know about TensorFlow 2.0\\\\n#tensorflow #python #programming\\\\n https:\\\\/\\\\/t.co\\\\/Ixw3NJiuRq\\\",\\\"source\\\":\\\"\\\\u003ca href=\\\\\\\"https:\\\\/\\\\/mobile.twitter.com\\\\\\\" rel=\\\\\\\"nofollow\\\\\\\"\\\\u003eTwitter Web App\\\\u003c\\\\/a\\\\u003e\\\",\\\"truncated\\\":false,\\\"in_reply_to_status_id\\\":null,\\\"in_reply_to_status_id_str\\\":null,\\\"in_reply_to_user_id\\\":null,\\\"in_reply_to_user_id_str\\\":null,\\\"in_reply_to_screen_name\\\":null,\\\"user\\\":{\\\"id\\\":3237673034,\\\"id_str\\\":\\\"3237673034\\\",\\\"name\\\":\\\"Code Geek\\\",\\\"screen_name\\\":\\\"codek_tv\\\",\\\"location\\\":\\\"United States\\\",\\\"url\\\":\\\"https:\\\\/\\\\/morioh.com\\\\/\\\",\\\"description\\\":\\\"Here to share events, tutorials, courses, books... related to #nodejs #javascript #typescript #mongodb #nosql #webdev #python #django #angularjs #iojs #tutorial\\\",\\\"translator_type\\\":\\\"none\\\",\\\"protected\\\":false,\\\"verified\\\":false,\\\"followers_count\\\":24999,\\\"friends_count\\\":6991,\\\"listed_count\\\":709,\\\"favourites_count\\\":10694,\\\"statuses_count\\\":5382,\\\"created_at\\\":\\\"Sat Jun 06 07:57:09 +0000 2015\\\",\\\"utc_offset\\\":null,\\\"time_zone\\\":null,\\\"geo_enabled\\\":false,\\\"lang\\\":null,\\\"contributors_enabled\\\":false,\\\"is_translator\\\":false,\\\"profile_background_color\\\":\\\"000000\\\",\\\"profile_background_image_url\\\":\\\"http:\\\\/\\\\/abs.twimg.com\\\\/images\\\\/themes\\\\/theme1\\\\/bg.png\\\",\\\"profile_background_image_url_https\\\":\\\"https:\\\\/\\\\/abs.twimg.com\\\\/images\\\\/themes\\\\/theme1\\\\/bg.png\\\",\\\"profile_background_tile\\\":false,\\\"profile_link_color\\\":\\\"9266CC\\\",\\\"profile_sidebar_border_color\\\":\\\"000000\\\",\\\"profile_sidebar_fill_color\\\":\\\"000000\\\",\\\"profile_text_color\\\":\\\"000000\\\",\\\"profile_use_background_image\\\":false,\\\"profile_image_url\\\":\\\"http:\\\\/\\\\/pbs.twimg.com\\\\/profile_images\\\\/607094382596980736\\\\/U8FwdC0e_normal.png\\\",\\\"profile_image_url_https\\\":\\\"https:\\\\/\\\\/pbs.twimg.com\\\\/profile_images\\\\/607094382596980736\\\\/U8FwdC0e_normal.png\\\",\\\"profile_banner_url\\\":\\\"https:\\\\/\\\\/pbs.twimg.com\\\\/profile_banners\\\\/3237673034\\\\/1433577786\\\",\\\"default_profile\\\":false,\\\"default_profile_image\\\":false,\\\"following\\\":null,\\\"follow_request_sent\\\":null,\\\"notifications\\\":null},\\\"geo\\\":null,\\\"coordinates\\\":null,\\\"place\\\":null,\\\"contributors\\\":null,\\\"is_quote_status\\\":false,\\\"quote_count\\\":0,\\\"reply_count\\\":0,\\\"retweet_count\\\":3,\\\"favorite_count\\\":6,\\\"entities\\\":{\\\"hashtags\\\":[{\\\"text\\\":\\\"tensorflow\\\",\\\"indices\\\":[49,60]},{\\\"text\\\":\\\"python\\\",\\\"indices\\\":[61,68]},{\\\"text\\\":\\\"programming\\\",\\\"indices\\\":[69,81]}],\\\"urls\\\":[{\\\"url\\\":\\\"https:\\\\/\\\\/t.co\\\\/Ixw3NJiuRq\\\",\\\"expanded_url\\\":\\\"https:\\\\/\\\\/morioh.com\\\\/p\\\\/2eb14ed72e5e?f=5c21fb01c16e2556b555ab32\\\",\\\"display_url\\\":\\\"morioh.com\\\\/p\\\\/2eb14ed72e5e\\\\u2026\\\",\\\"indices\\\":[83,106]}],\\\"user_mentions\\\":[],\\\"symbols\\\":[]},\\\"favorited\\\":false,\\\"retweeted\\\":false,\\\"possibly_sensitive\\\":false,\\\"filter_level\\\":\\\"low\\\",\\\"lang\\\":\\\"en\\\"},\\\"is_quote_status\\\":false,\\\"quote_count\\\":0,\\\"reply_count\\\":0,\\\"retweet_count\\\":0,\\\"favorite_count\\\":0,\\\"entities\\\":{\\\"hashtags\\\":[],\\\"urls\\\":[{\\\"url\\\":\\\"https:\\\\/\\\\/t.co\\\\/Ixw3NJiuRq\\\",\\\"expanded_url\\\":\\\"https:\\\\/\\\\/morioh.com\\\\/p\\\\/2eb14ed72e5e?f=5c21fb01c16e2556b555ab32\\\",\\\"display_url\\\":\\\"morioh.com\\\\/p\\\\/2eb14ed72e5e\\\\u2026\\\",\\\"indices\\\":[97,120]}],\\\"user_mentions\\\":[{\\\"screen_name\\\":\\\"codek_tv\\\",\\\"name\\\":\\\"Code Geek\\\",\\\"id\\\":3237673034,\\\"id_str\\\":\\\"3237673034\\\",\\\"indices\\\":[3,12]}],\\\"symbols\\\":[]},\\\"favorited\\\":false,\\\"retweeted\\\":false,\\\"possibly_sensitive\\\":false,\\\"filter_level\\\":\\\"low\\\",\\\"lang\\\":\\\"en\\\",\\\"timestamp_ms\\\":\\\"1581261388865\\\"}\\r\\n\""
   ]
  },
  {
   "cell_type": "code",
   "execution_count": 8,
   "metadata": {},
   "outputs": [],
   "source": [
    "RDD = json.loads(RDD)"
   ]
  },
  {
   "cell_type": "code",
   "execution_count": 12,
   "metadata": {},
   "outputs": [
    {
     "name": "stdout",
     "output_type": "stream",
     "text": [
      "KILL\n",
      "NO\n"
     ]
    }
   ],
   "source": [
    "if RDD[\"truncated\"]:\n",
    "    print(\"YES\")\n",
    "else:\n",
    "    if len(RDD[\"entities\"][\"hashtags\"]) == 0:\n",
    "        print(\"KILL\")\n",
    "    print(\"NO\")"
   ]
  },
  {
   "cell_type": "code",
   "execution_count": 28,
   "metadata": {},
   "outputs": [],
   "source": [
    "# 필요한 스키마 1. Tweet 2. User 3. Quoted\n",
    "tweet_schema = [\n",
    "    'created_at',\n",
    "    'id',\n",
    "    'retweeted',\n",
    "    'truncated',\n",
    "    'text',\n",
    "    'extended_tweet', # 생략 가능 # 내부 정보\n",
    "    'extended_entities', # 생략 가능 # 내부 정보\n",
    "    'entities', # 내부 정보\n",
    "    'is_quote_status',\n",
    "    'quoted_status', # 생략 가능 # 내부 정보\n",
    "    'lang',\n",
    "    'timestamp_ms'\n",
    "] # user, quoted_status, retweeted_status, in_reply_to_status_id 은 따로 처리\n",
    "\n",
    "\n",
    "user_schema = [\n",
    "    'id', \n",
    "    'name',\n",
    "    'screen_name',\n",
    "    'location',\n",
    "    'url',\n",
    "    'description',\n",
    "    'followers_count',\n",
    "    'friends_count',\n",
    "    'listed_count',\n",
    "    'favourites_count',\n",
    "    'statuses_count',\n",
    "    'created_at',\n",
    "    'profile_image_url'\n",
    "]\n",
    "\n",
    "quote_schema = [\n",
    "    'created_at',\n",
    "    'id',\n",
    "    'in_reply_to_status_id', # reply인지 아닌지 판단 기준. 데이터는 user_mentions로 렌더링\n",
    "    'truncated',\n",
    "    'text',\n",
    "    'extended_tweet', # 생략 가능 # 내부 정보\n",
    "    'entities', # 내부 정보\n",
    "] # user는 따로 처리\n",
    "\n",
    "media_schema = [\n",
    "    'id',\n",
    "    'indices',\n",
    "    'media_url',\n",
    "    'type'\n",
    "]"
   ]
  },
  {
   "cell_type": "code",
   "execution_count": 29,
   "metadata": {},
   "outputs": [],
   "source": [
    "def tweet_filter(RDD):\n",
    "    filtered = {}\n",
    "    for key in tweet_schema:\n",
    "        filtered[key] = None\n",
    "    \n",
    "    # Retweet 판단 후 처리\n",
    "    if RDD['retweeted'] or RDD['text'][0:2] == \"RT\":\n",
    "        filtered['retweeted_status'] = tweet_filter(RDD['retweeted_status'])\n",
    "        \n",
    "    # Reply 판단 후 처리\n",
    "    if RDD['in_reply_to_status_id']:\n",
    "        filtered['reply_status'] = True\n",
    "    else:\n",
    "        filtered['reply_status'] = False\n",
    "    \n",
    "    # tweet_schema 처리\n",
    "    tweet_lambda = lambda x : (x in tweet_schema)\n",
    "    isExisting = list(filter(tweet_lambda, RDD.keys()))\n",
    "    for key in isExisting:\n",
    "        filtered[key] = RDD[key]\n",
    "    \n",
    "    # user_schema 처리\n",
    "    filtered['user'] = {}\n",
    "    for key in user_schema:\n",
    "        filtered['user'][key] = RDD['user'][key]\n",
    "    \n",
    "    # quote_schema 처리\n",
    "    if RDD['is_quote_status']:\n",
    "        filtered['quoted_status'] = {}\n",
    "        quoted_lambda = lambda x : (x in quote_schema)\n",
    "        isExisting = list(filter(quoted_lambda, RDD['quoted_status'].keys()))\n",
    "        for key in isExisting:\n",
    "            filtered['quoted_status'][key] = RDD['quoted_status'][key]\n",
    "            \n",
    "        filtered['quoted_status']['user'] = {}\n",
    "        for key in user_schema:\n",
    "            filtered['quoted_status']['user'][key] = RDD['quoted_status']['user'][key]\n",
    "            \n",
    "            \n",
    "    # media_schema 처리\n",
    "    if 'media' in RDD['entities']:\n",
    "        RDD['media_status'] = True\n",
    "        for index, value in enumerate(RDD['entities']['media']):\n",
    "            new_data = {}\n",
    "            for key in media_schema:\n",
    "                new_data[key] = value[key]\n",
    "            if value['type'] == 'video':\n",
    "                new_data['video_info'] = value['video_info']\n",
    "            filtered['entities']['media'][index] = new_data\n",
    "            filtered['extended_entities']['media'][index] = new_data\n",
    "            \n",
    "        \n",
    "    elif RDD['truncated'] and 'media' in RDD['extended_tweet']['entities']:\n",
    "        RDD['media_status'] = True\n",
    "        for index, value in enumerate(RDD['extended_tweet']['entities']['media']):\n",
    "            new_data = {}\n",
    "            for key in media_schema:\n",
    "                new_data[key] = value[key]\n",
    "            if value['type'] == 'video':\n",
    "                new_data['video_info'] = value['video_info']\n",
    "            filtered['extended_tweet']['entities']['media'][index] = new_data\n",
    "            filtered['extended_tweet']['extended_entities']['media'][index] = new_data\n",
    "            \n",
    "    else:\n",
    "        RDD['media_status'] = False\n",
    "            \n",
    "    # date 추가\n",
    "    datetime_object = datetime.strptime(filtered['created_at'], '%a %b %d %H:%M:%S %z %Y')\n",
    "    filtered['date'] = datetime_object.date().__str__()\n",
    "    print(datetime_object.timestamp())\n",
    "            \n",
    "    return filtered"
   ]
  },
  {
   "cell_type": "code",
   "execution_count": 30,
   "metadata": {},
   "outputs": [
    {
     "data": {
      "text/plain": [
       "{'created_at': 'Sun Feb 09 15:16:28 +0000 2020',\n",
       " 'id': 1226525278819713028,\n",
       " 'retweeted': False,\n",
       " 'truncated': False,\n",
       " 'text': 'RT @codek_tv: Everything you need to know about TensorFlow 2.0\\n#tensorflow #python #programming\\n https://t.co/Ixw3NJiuRq',\n",
       " 'extended_tweet': None,\n",
       " 'extended_entities': None,\n",
       " 'entities': {'hashtags': [{'text': 'tensorflow', 'indices': [63, 74]},\n",
       "   {'text': 'python', 'indices': [75, 82]},\n",
       "   {'text': 'programming', 'indices': [83, 95]}],\n",
       "  'urls': [{'url': 'https://t.co/Ixw3NJiuRq',\n",
       "    'expanded_url': 'https://morioh.com/p/2eb14ed72e5e?f=5c21fb01c16e2556b555ab32',\n",
       "    'display_url': 'morioh.com/p/2eb14ed72e5e…',\n",
       "    'indices': [97, 120]}],\n",
       "  'user_mentions': [{'screen_name': 'codek_tv',\n",
       "    'name': 'Code Geek',\n",
       "    'id': 3237673034,\n",
       "    'id_str': '3237673034',\n",
       "    'indices': [3, 12]}],\n",
       "  'symbols': []},\n",
       " 'is_quote_status': False,\n",
       " 'quoted_status': None,\n",
       " 'lang': 'en',\n",
       " 'timestamp_ms': '1581261388865',\n",
       " 'retweeted_status': {'created_at': 'Sun Feb 09 15:14:20 +0000 2020',\n",
       "  'id': 1226524742070480899,\n",
       "  'retweeted': False,\n",
       "  'truncated': False,\n",
       "  'text': 'Everything you need to know about TensorFlow 2.0\\n#tensorflow #python #programming\\n https://t.co/Ixw3NJiuRq',\n",
       "  'extended_tweet': None,\n",
       "  'extended_entities': None,\n",
       "  'entities': {'hashtags': [{'text': 'tensorflow', 'indices': [49, 60]},\n",
       "    {'text': 'python', 'indices': [61, 68]},\n",
       "    {'text': 'programming', 'indices': [69, 81]}],\n",
       "   'urls': [{'url': 'https://t.co/Ixw3NJiuRq',\n",
       "     'expanded_url': 'https://morioh.com/p/2eb14ed72e5e?f=5c21fb01c16e2556b555ab32',\n",
       "     'display_url': 'morioh.com/p/2eb14ed72e5e…',\n",
       "     'indices': [83, 106]}],\n",
       "   'user_mentions': [],\n",
       "   'symbols': []},\n",
       "  'is_quote_status': False,\n",
       "  'quoted_status': None,\n",
       "  'lang': 'en',\n",
       "  'timestamp_ms': None,\n",
       "  'reply_status': False,\n",
       "  'user': {'id': 3237673034,\n",
       "   'name': 'Code Geek',\n",
       "   'screen_name': 'codek_tv',\n",
       "   'location': 'United States',\n",
       "   'url': 'https://morioh.com/',\n",
       "   'description': 'Here to share events, tutorials, courses, books... related to #nodejs #javascript #typescript #mongodb #nosql #webdev #python #django #angularjs #iojs #tutorial',\n",
       "   'followers_count': 24999,\n",
       "   'friends_count': 6991,\n",
       "   'listed_count': 709,\n",
       "   'favourites_count': 10694,\n",
       "   'statuses_count': 5382,\n",
       "   'created_at': 'Sat Jun 06 07:57:09 +0000 2015',\n",
       "   'profile_image_url': 'http://pbs.twimg.com/profile_images/607094382596980736/U8FwdC0e_normal.png'},\n",
       "  'date': '2020-02-09'},\n",
       " 'reply_status': False,\n",
       " 'user': {'id': 855384627975831553,\n",
       "  'name': 'Python Programming',\n",
       "  'screen_name': 'PythonPr',\n",
       "  'location': 'United States',\n",
       "  'url': 'https://morioh.com',\n",
       "  'description': '#python #programming',\n",
       "  'followers_count': 2507,\n",
       "  'friends_count': 1593,\n",
       "  'listed_count': 25,\n",
       "  'favourites_count': 529,\n",
       "  'statuses_count': 1688,\n",
       "  'created_at': 'Fri Apr 21 11:36:02 +0000 2017',\n",
       "  'profile_image_url': 'http://pbs.twimg.com/profile_images/855386134439895041/BKOMdcnN_normal.jpg'},\n",
       " 'date': '2020-02-09'}"
      ]
     },
     "execution_count": 30,
     "metadata": {},
     "output_type": "execute_result"
    }
   ],
   "source": [
    "result = tweet_filter(RDD)\n",
    "result"
   ]
  },
  {
   "cell_type": "code",
   "execution_count": 32,
   "metadata": {},
   "outputs": [],
   "source": [
    "dump_result = json.dumps(result)"
   ]
  },
  {
   "cell_type": "code",
   "execution_count": null,
   "metadata": {},
   "outputs": [],
   "source": [
    "tmp = \"https:\\/\\/t.co\\/6TxvZJWlEQ\\n#bestdigitalmarketingtraining\\n#tally #javascript #dotnet #Python #AWS #Selenium #BigData \\n\\nWe are providing it training with real time experts if you need any assistance feel free to Contact me 7401239000 https:\\/\\/t.co\\/uwtpGOoFap\"\n",
    "\n",
    "tmp[229:252]"
   ]
  },
  {
   "cell_type": "code",
   "execution_count": 36,
   "metadata": {},
   "outputs": [],
   "source": [
    "from __future__ import print_function\n",
    "\n",
    "import sys\n",
    "import time, json\n",
    "\n",
    "from pyspark import SparkConf, SparkContext\n",
    "from pyspark.streaming import StreamingContext\n",
    "from pyspark.streaming.kafka import KafkaUtils\n",
    "\n",
    "from pyspark.sql import *\n",
    "from pyspark.sql.functions import *"
   ]
  },
  {
   "cell_type": "code",
   "execution_count": 37,
   "metadata": {},
   "outputs": [
    {
     "data": {
      "text/plain": [
       "b'{\"created_at\": \"Sun Feb 09 15:16:28 +0000 2020\", \"id\": 1226525278819713028, \"retweeted\": false, \"truncated\": false, \"text\": \"RT @codek_tv: Everything you need to know about TensorFlow 2.0\\\\n#tensorflow #python #programming\\\\n https://t.co/Ixw3NJiuRq\", \"extended_tweet\": null, \"extended_entities\": null, \"entities\": {\"hashtags\": [{\"text\": \"tensorflow\", \"indices\": [63, 74]}, {\"text\": \"python\", \"indices\": [75, 82]}, {\"text\": \"programming\", \"indices\": [83, 95]}], \"urls\": [{\"url\": \"https://t.co/Ixw3NJiuRq\", \"expanded_url\": \"https://morioh.com/p/2eb14ed72e5e?f=5c21fb01c16e2556b555ab32\", \"display_url\": \"morioh.com/p/2eb14ed72e5e\\\\u2026\", \"indices\": [97, 120]}], \"user_mentions\": [{\"screen_name\": \"codek_tv\", \"name\": \"Code Geek\", \"id\": 3237673034, \"id_str\": \"3237673034\", \"indices\": [3, 12]}], \"symbols\": []}, \"is_quote_status\": false, \"quoted_status\": null, \"lang\": \"en\", \"timestamp_ms\": \"1581261388865\", \"retweeted_status\": {\"created_at\": \"Sun Feb 09 15:14:20 +0000 2020\", \"id\": 1226524742070480899, \"retweeted\": false, \"truncated\": false, \"text\": \"Everything you need to know about TensorFlow 2.0\\\\n#tensorflow #python #programming\\\\n https://t.co/Ixw3NJiuRq\", \"extended_tweet\": null, \"extended_entities\": null, \"entities\": {\"hashtags\": [{\"text\": \"tensorflow\", \"indices\": [49, 60]}, {\"text\": \"python\", \"indices\": [61, 68]}, {\"text\": \"programming\", \"indices\": [69, 81]}], \"urls\": [{\"url\": \"https://t.co/Ixw3NJiuRq\", \"expanded_url\": \"https://morioh.com/p/2eb14ed72e5e?f=5c21fb01c16e2556b555ab32\", \"display_url\": \"morioh.com/p/2eb14ed72e5e\\\\u2026\", \"indices\": [83, 106]}], \"user_mentions\": [], \"symbols\": []}, \"is_quote_status\": false, \"quoted_status\": null, \"lang\": \"en\", \"timestamp_ms\": null, \"reply_status\": false, \"user\": {\"id\": 3237673034, \"name\": \"Code Geek\", \"screen_name\": \"codek_tv\", \"location\": \"United States\", \"url\": \"https://morioh.com/\", \"description\": \"Here to share events, tutorials, courses, books... related to #nodejs #javascript #typescript #mongodb #nosql #webdev #python #django #angularjs #iojs #tutorial\", \"followers_count\": 24999, \"friends_count\": 6991, \"listed_count\": 709, \"favourites_count\": 10694, \"statuses_count\": 5382, \"created_at\": \"Sat Jun 06 07:57:09 +0000 2015\", \"profile_image_url\": \"http://pbs.twimg.com/profile_images/607094382596980736/U8FwdC0e_normal.png\"}, \"date\": \"2020-02-09\"}, \"reply_status\": false, \"user\": {\"id\": 855384627975831553, \"name\": \"Python Programming\", \"screen_name\": \"PythonPr\", \"location\": \"United States\", \"url\": \"https://morioh.com\", \"description\": \"#python #programming\", \"followers_count\": 2507, \"friends_count\": 1593, \"listed_count\": 25, \"favourites_count\": 529, \"statuses_count\": 1688, \"created_at\": \"Fri Apr 21 11:36:02 +0000 2017\", \"profile_image_url\": \"http://pbs.twimg.com/profile_images/855386134439895041/BKOMdcnN_normal.jpg\"}, \"date\": \"2020-02-09\"}'"
      ]
     },
     "execution_count": 37,
     "metadata": {},
     "output_type": "execute_result"
    }
   ],
   "source": [
    "json_result = json.dumps(result).encode('utf-8')\n",
    "json_result"
   ]
  },
  {
   "cell_type": "code",
   "execution_count": null,
   "metadata": {},
   "outputs": [],
   "source": [
    "schema = StructType([\n",
    "        StructField(\"created_at\", StringType(), False),\n",
    "        StructField(\"id\", LongType(), False),\n",
    "        StructField(\"truncated\", BooleanType(), False),\n",
    "        StructField(\"retweeted\", BooleanType(), False),\n",
    "        StructField(\"reply_status\", BooleanType(), False),\n",
    "        StructField(\"is_quote_status\", BooleanType(), False),\n",
    "        StructField(\"media_status\", BooleanType(), False),\n",
    "        StructField(\"text\", StringType(), False),\n",
    "        StructField(\"user\", StringType(), False),\n",
    "        StructField(\"retweeted_status\", StringType(), True),\n",
    "        StructField(\"quoted_status\", StringType(), True),\n",
    "        StructField(\"entities\", StringType(), False),\n",
    "        StructField(\"extended_entities\", StringType(), True),\n",
    "        StructField(\"extended_tweet\", StringType(), True),\n",
    "        StructField(\"lang\", StringType(), False),\n",
    "        StructField(\"date\", DateType(), False),\n",
    "        StructField(\"timestamp_ms\", TimestampType(), False)\n",
    "    ])\n",
    "    \n",
    "    try:\n",
    "        spark = SparkSession \\\n",
    "            .builder \\\n",
    "            .appName(\"Spark SQL basic\") \\\n",
    "            .getOrCreate()\n",
    "        \n",
    "        #print(type(rdd))\n",
    "        #print(rdd.collect())\n",
    "        \n",
    "        df = spark.read.json(rdd)\n",
    "        \n",
    "        df.show()\n",
    "        df.printSchema()\n",
    "        #df.createOrReplaceTempView(\"tweet\")\n",
    "        \n",
    "        \n",
    "        #schema_lambda = lambda x : (x in full_schema)\n",
    "        #isExisting = list(filter(schema_lambda, df.columns))\n",
    "        \n",
    "        # 존재하지 않는 컬럼을 선택하면 오류 발생\n",
    "        #tweet = df.selectExpr(isExisting)\n",
    "        \n",
    "        #user = df.select(user_schema).toJSON().collect()\n",
    "        #user_rdd = sc.parallelize(user)\n",
    "        #user_rows = user_rdd.map(lambda x: Row(x))\n",
    "        #user_df = spark.createDataFrame(user_rows,['user'])      \n",
    "        #user_df.printSchema()\n",
    "\n",
    "        \n",
    "    except:\n",
    "        print(\"**********ERROR OCCUR**********\")\n",
    "        pass"
   ]
  },
  {
   "cell_type": "code",
   "execution_count": 40,
   "metadata": {},
   "outputs": [
    {
     "data": {
      "text/plain": [
       "str"
      ]
     },
     "execution_count": 40,
     "metadata": {},
     "output_type": "execute_result"
    }
   ],
   "source": [
    "type(result['timestamp_ms'])"
   ]
  },
  {
   "cell_type": "code",
   "execution_count": null,
   "metadata": {},
   "outputs": [],
   "source": [
    "rdd = \"{\\\"created_at\\\":\\\"Sun Feb 09 15:16:28 +0000 2020\\\",\\\"id\\\":1226525278819713028,\\\"id_str\\\":\\\"1226525278819713028\\\",\\\"text\\\":\\\"RT @codek_tv: Everything you need to know about TensorFlow 2.0\\\\n#tensorflow #python #programming\\\\n https:\\\\/\\\\/t.co\\\\/Ixw3NJiuRq\\\",\\\"source\\\":\\\"\\\\u003ca href=\\\\\\\"https:\\\\/\\\\/mobile.twitter.com\\\\\\\" rel=\\\\\\\"nofollow\\\\\\\"\\\\u003eTwitter Web App\\\\u003c\\\\/a\\\\u003e\\\",\\\"truncated\\\":false,\\\"in_reply_to_status_id\\\":null,\\\"in_reply_to_status_id_str\\\":null,\\\"in_reply_to_user_id\\\":null,\\\"in_reply_to_user_id_str\\\":null,\\\"in_reply_to_screen_name\\\":null,\\\"user\\\":{\\\"id\\\":855384627975831553,\\\"id_str\\\":\\\"855384627975831553\\\",\\\"name\\\":\\\"Python Programming\\\",\\\"screen_name\\\":\\\"PythonPr\\\",\\\"location\\\":\\\"United States\\\",\\\"url\\\":\\\"https:\\\\/\\\\/morioh.com\\\",\\\"description\\\":\\\"#python #programming\\\",\\\"translator_type\\\":\\\"none\\\",\\\"protected\\\":false,\\\"verified\\\":false,\\\"followers_count\\\":2507,\\\"friends_count\\\":1593,\\\"listed_count\\\":25,\\\"favourites_count\\\":529,\\\"statuses_count\\\":1688,\\\"created_at\\\":\\\"Fri Apr 21 11:36:02 +0000 2017\\\",\\\"utc_offset\\\":null,\\\"time_zone\\\":null,\\\"geo_enabled\\\":false,\\\"lang\\\":null,\\\"contributors_enabled\\\":false,\\\"is_translator\\\":false,\\\"profile_background_color\\\":\\\"F5F8FA\\\",\\\"profile_background_image_url\\\":\\\"\\\",\\\"profile_background_image_url_https\\\":\\\"\\\",\\\"profile_background_tile\\\":false,\\\"profile_link_color\\\":\\\"1DA1F2\\\",\\\"profile_sidebar_border_color\\\":\\\"C0DEED\\\",\\\"profile_sidebar_fill_color\\\":\\\"DDEEF6\\\",\\\"profile_text_color\\\":\\\"333333\\\",\\\"profile_use_background_image\\\":true,\\\"profile_image_url\\\":\\\"http:\\\\/\\\\/pbs.twimg.com\\\\/profile_images\\\\/855386134439895041\\\\/BKOMdcnN_normal.jpg\\\",\\\"profile_image_url_https\\\":\\\"https:\\\\/\\\\/pbs.twimg.com\\\\/profile_images\\\\/855386134439895041\\\\/BKOMdcnN_normal.jpg\\\",\\\"profile_banner_url\\\":\\\"https:\\\\/\\\\/pbs.twimg.com\\\\/profile_banners\\\\/855384627975831553\\\\/1492774829\\\",\\\"default_profile\\\":true,\\\"default_profile_image\\\":false,\\\"following\\\":null,\\\"follow_request_sent\\\":null,\\\"notifications\\\":null},\\\"geo\\\":null,\\\"coordinates\\\":null,\\\"place\\\":null,\\\"contributors\\\":null,\\\"retweeted_status\\\":{\\\"created_at\\\":\\\"Sun Feb 09 15:14:20 +0000 2020\\\",\\\"id\\\":1226524742070480899,\\\"id_str\\\":\\\"1226524742070480899\\\",\\\"text\\\":\\\"Everything you need to know about TensorFlow 2.0\\\\n#tensorflow #python #programming\\\\n https:\\\\/\\\\/t.co\\\\/Ixw3NJiuRq\\\",\\\"source\\\":\\\"\\\\u003ca href=\\\\\\\"https:\\\\/\\\\/mobile.twitter.com\\\\\\\" rel=\\\\\\\"nofollow\\\\\\\"\\\\u003eTwitter Web App\\\\u003c\\\\/a\\\\u003e\\\",\\\"truncated\\\":false,\\\"in_reply_to_status_id\\\":null,\\\"in_reply_to_status_id_str\\\":null,\\\"in_reply_to_user_id\\\":null,\\\"in_reply_to_user_id_str\\\":null,\\\"in_reply_to_screen_name\\\":null,\\\"user\\\":{\\\"id\\\":3237673034,\\\"id_str\\\":\\\"3237673034\\\",\\\"name\\\":\\\"Code Geek\\\",\\\"screen_name\\\":\\\"codek_tv\\\",\\\"location\\\":\\\"United States\\\",\\\"url\\\":\\\"https:\\\\/\\\\/morioh.com\\\\/\\\",\\\"description\\\":\\\"Here to share events, tutorials, courses, books... related to #nodejs #javascript #typescript #mongodb #nosql #webdev #python #django #angularjs #iojs #tutorial\\\",\\\"translator_type\\\":\\\"none\\\",\\\"protected\\\":false,\\\"verified\\\":false,\\\"followers_count\\\":24999,\\\"friends_count\\\":6991,\\\"listed_count\\\":709,\\\"favourites_count\\\":10694,\\\"statuses_count\\\":5382,\\\"created_at\\\":\\\"Sat Jun 06 07:57:09 +0000 2015\\\",\\\"utc_offset\\\":null,\\\"time_zone\\\":null,\\\"geo_enabled\\\":false,\\\"lang\\\":null,\\\"contributors_enabled\\\":false,\\\"is_translator\\\":false,\\\"profile_background_color\\\":\\\"000000\\\",\\\"profile_background_image_url\\\":\\\"http:\\\\/\\\\/abs.twimg.com\\\\/images\\\\/themes\\\\/theme1\\\\/bg.png\\\",\\\"profile_background_image_url_https\\\":\\\"https:\\\\/\\\\/abs.twimg.com\\\\/images\\\\/themes\\\\/theme1\\\\/bg.png\\\",\\\"profile_background_tile\\\":false,\\\"profile_link_color\\\":\\\"9266CC\\\",\\\"profile_sidebar_border_color\\\":\\\"000000\\\",\\\"profile_sidebar_fill_color\\\":\\\"000000\\\",\\\"profile_text_color\\\":\\\"000000\\\",\\\"profile_use_background_image\\\":false,\\\"profile_image_url\\\":\\\"http:\\\\/\\\\/pbs.twimg.com\\\\/profile_images\\\\/607094382596980736\\\\/U8FwdC0e_normal.png\\\",\\\"profile_image_url_https\\\":\\\"https:\\\\/\\\\/pbs.twimg.com\\\\/profile_images\\\\/607094382596980736\\\\/U8FwdC0e_normal.png\\\",\\\"profile_banner_url\\\":\\\"https:\\\\/\\\\/pbs.twimg.com\\\\/profile_banners\\\\/3237673034\\\\/1433577786\\\",\\\"default_profile\\\":false,\\\"default_profile_image\\\":false,\\\"following\\\":null,\\\"follow_request_sent\\\":null,\\\"notifications\\\":null},\\\"geo\\\":null,\\\"coordinates\\\":null,\\\"place\\\":null,\\\"contributors\\\":null,\\\"is_quote_status\\\":false,\\\"quote_count\\\":0,\\\"reply_count\\\":0,\\\"retweet_count\\\":3,\\\"favorite_count\\\":6,\\\"entities\\\":{\\\"hashtags\\\":[{\\\"text\\\":\\\"tensorflow\\\",\\\"indices\\\":[49,60]},{\\\"text\\\":\\\"python\\\",\\\"indices\\\":[61,68]},{\\\"text\\\":\\\"programming\\\",\\\"indices\\\":[69,81]}],\\\"urls\\\":[{\\\"url\\\":\\\"https:\\\\/\\\\/t.co\\\\/Ixw3NJiuRq\\\",\\\"expanded_url\\\":\\\"https:\\\\/\\\\/morioh.com\\\\/p\\\\/2eb14ed72e5e?f=5c21fb01c16e2556b555ab32\\\",\\\"display_url\\\":\\\"morioh.com\\\\/p\\\\/2eb14ed72e5e\\\\u2026\\\",\\\"indices\\\":[83,106]}],\\\"user_mentions\\\":[],\\\"symbols\\\":[]},\\\"favorited\\\":false,\\\"retweeted\\\":false,\\\"possibly_sensitive\\\":false,\\\"filter_level\\\":\\\"low\\\",\\\"lang\\\":\\\"en\\\"},\\\"is_quote_status\\\":false,\\\"quote_count\\\":0,\\\"reply_count\\\":0,\\\"retweet_count\\\":0,\\\"favorite_count\\\":0,\\\"entities\\\":{\\\"hashtags\\\":[{\\\"text\\\":\\\"tensorflow\\\",\\\"indices\\\":[63,74]},{\\\"text\\\":\\\"python\\\",\\\"indices\\\":[75,82]},{\\\"text\\\":\\\"programming\\\",\\\"indices\\\":[83,95]}],\\\"urls\\\":[{\\\"url\\\":\\\"https:\\\\/\\\\/t.co\\\\/Ixw3NJiuRq\\\",\\\"expanded_url\\\":\\\"https:\\\\/\\\\/morioh.com\\\\/p\\\\/2eb14ed72e5e?f=5c21fb01c16e2556b555ab32\\\",\\\"display_url\\\":\\\"morioh.com\\\\/p\\\\/2eb14ed72e5e\\\\u2026\\\",\\\"indices\\\":[97,120]}],\\\"user_mentions\\\":[{\\\"screen_name\\\":\\\"codek_tv\\\",\\\"name\\\":\\\"Code Geek\\\",\\\"id\\\":3237673034,\\\"id_str\\\":\\\"3237673034\\\",\\\"indices\\\":[3,12]}],\\\"symbols\\\":[]},\\\"favorited\\\":false,\\\"retweeted\\\":false,\\\"possibly_sensitive\\\":false,\\\"filter_level\\\":\\\"low\\\",\\\"lang\\\":\\\"en\\\",\\\"timestamp_ms\\\":\\\"1581261388865\\\"}\\r\\n\""
   ]
  },
  {
   "cell_type": "code",
   "execution_count": null,
   "metadata": {},
   "outputs": [],
   "source": [
    "spark = SparkSession \\\n",
    "            .builder \\\n",
    "            .appName(\"Spark SQL basic\") \\\n",
    "            .getOrCreate()\n",
    "        \n",
    "df = spark.read.json(rdd)\n",
    "\n",
    "df.printSchema()\n",
    "\n",
    "#df.createOrReplaceTempView(\"tweet\")"
   ]
  },
  {
   "cell_type": "code",
   "execution_count": 44,
   "metadata": {},
   "outputs": [
    {
     "data": {
      "text/plain": [
       "1581416376184"
      ]
     },
     "execution_count": 44,
     "metadata": {},
     "output_type": "execute_result"
    }
   ],
   "source": [
    "import time\n",
    "int(time.time()*1000)"
   ]
  },
  {
   "cell_type": "code",
   "execution_count": 43,
   "metadata": {},
   "outputs": [
    {
     "data": {
      "text/plain": [
       "1581416280.272676"
      ]
     },
     "execution_count": 43,
     "metadata": {},
     "output_type": "execute_result"
    }
   ],
   "source": [
    "1580188480463\n",
    "1581416376184"
   ]
  },
  {
   "cell_type": "code",
   "execution_count": 13,
   "metadata": {},
   "outputs": [],
   "source": [
    "string = 'RT @codek_tv: Everything you need to know about TensorFlow 2.0\\n#tensorflow #python #programming\\n https://t.co/Ixw3NJiuRq'"
   ]
  },
  {
   "cell_type": "code",
   "execution_count": 14,
   "metadata": {},
   "outputs": [
    {
     "data": {
      "text/plain": [
       "['RT',\n",
       " '@codek_tv:',\n",
       " 'Everything',\n",
       " 'you',\n",
       " 'need',\n",
       " 'to',\n",
       " 'know',\n",
       " 'about',\n",
       " 'TensorFlow',\n",
       " '2.0\\n#tensorflow',\n",
       " '#python',\n",
       " '#programming\\n',\n",
       " 'https://t.co/Ixw3NJiuRq']"
      ]
     },
     "execution_count": 14,
     "metadata": {},
     "output_type": "execute_result"
    }
   ],
   "source": [
    "string.split(\" \")"
   ]
  },
  {
   "cell_type": "code",
   "execution_count": 24,
   "metadata": {},
   "outputs": [
    {
     "name": "stdout",
     "output_type": "stream",
     "text": [
      "2020-02-26 16:01:56.248596\n",
      "<class 'datetime.date'>\n"
     ]
    },
    {
     "data": {
      "text/plain": [
       "0"
      ]
     },
     "execution_count": 24,
     "metadata": {},
     "output_type": "execute_result"
    }
   ],
   "source": [
    "from datetime import datetime\n",
    "import time\n",
    "print(datetime.fromtimestamp(time.time()))\n",
    "print(type(datetime.now().date()))\n",
    "\n",
    "int(datetime.now().minute / 5)"
   ]
  },
  {
   "cell_type": "code",
   "execution_count": null,
   "metadata": {},
   "outputs": [],
   "source": []
  }
 ],
 "metadata": {
  "kernelspec": {
   "display_name": "Python 3",
   "language": "python",
   "name": "python3"
  },
  "language_info": {
   "codemirror_mode": {
    "name": "ipython",
    "version": 3
   },
   "file_extension": ".py",
   "mimetype": "text/x-python",
   "name": "python",
   "nbconvert_exporter": "python",
   "pygments_lexer": "ipython3",
   "version": "3.6.8"
  }
 },
 "nbformat": 4,
 "nbformat_minor": 4
}
